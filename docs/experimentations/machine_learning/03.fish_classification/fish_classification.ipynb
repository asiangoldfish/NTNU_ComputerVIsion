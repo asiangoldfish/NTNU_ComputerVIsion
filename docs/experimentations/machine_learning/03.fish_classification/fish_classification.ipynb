{
 "cells": [
  {
   "cell_type": "markdown",
   "metadata": {},
   "source": [
    "# Fish Classification\n",
    "\n",
    "## Steps\n",
    "1. Data preprocessing\n",
    "    - Divide dataset into train and test\n",
    "    - Normalize data with Min-Max scaling\n",
    "    - (one-hot encoding)\n",
    "    - Reshape data\n",
    "    - Data augmentation\n"
   ]
  }
 ],
 "metadata": {
  "language_info": {
   "name": "python"
  }
 },
 "nbformat": 4,
 "nbformat_minor": 2
}
