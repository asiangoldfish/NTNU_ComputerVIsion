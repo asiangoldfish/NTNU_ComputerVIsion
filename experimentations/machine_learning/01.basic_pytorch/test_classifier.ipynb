{
 "cells": [
  {
   "cell_type": "markdown",
   "metadata": {},
   "source": [
    "# Test Classifier\n",
    "Code taken from [pytorch.org](https://pytorch.org/tutorials/beginner/blitz/cifar10_tutorial.html)"
   ]
  },
  {
   "cell_type": "code",
   "execution_count": 24,
   "metadata": {},
   "outputs": [],
   "source": [
    "import torch                                # Machine learning library\n",
    "import torchvision                          # Computer vision library\n",
    "import torchvision.transforms as transforms # Transform models\n",
    "\n",
    "import matplotlib.pyplot as plt             # Render images\n",
    "import numpy as np                          # Maths"
   ]
  },
  {
   "cell_type": "code",
   "execution_count": 25,
   "metadata": {},
   "outputs": [
    {
     "name": "stdout",
     "output_type": "stream",
     "text": [
      "Files already downloaded and verified\n"
     ]
    }
   ],
   "source": [
    "# Add transformers to the model\n",
    "transform = transforms.Compose(\n",
    "    [transforms.ToTensor(),\n",
    "     transforms.Normalize((0.5, 0.5, 0.5), (0.5, 0.5, 0.5))]\n",
    ")\n",
    "\n",
    "# Number of samples processed on each iteration. A batch is the size of how many\n",
    "# samples will be processed at once. The larger the batch, the faster the model\n",
    "# will learn, but the more memory will be used.\n",
    "batch_size = 4\n",
    "\n",
    "# Note: The CIFAR10 dataset will be downloaded if it doesn't already exist.\n",
    "\n",
    "# Trainset takes a large portion of the dataset as training set. The default\n",
    "# value is 90%. We use the training set to train the model and make predictions.\n",
    "trainset = torchvision.datasets.CIFAR10(root='./data', train=True,\n",
    "                                        download=True, transform=transform)\n",
    "\n",
    "# Trainloader loads the training set in the form of batches. The training set is\n",
    "# shuffled. num_workers determines how many worker processes is used for loading\n",
    "# data in parallel.\n",
    "trainloader = torch.utils.data.DataLoader(trainset, batch_size=batch_size,\n",
    "                                          shuffle=True, num_workers=2)\n",
    "\n",
    "\n",
    "testset = torchvision.datasets.CIFAR10(root='./data', train=False,\n",
    "                                       download=False, transform=transform)\n",
    "\n",
    "testloader = torch.utils.data.DataLoader(testset, batch_size=batch_size,\n",
    "                                         shuffle=False, num_workers=2)\n",
    "\n",
    "classes = ('plane', 'car', 'bird', 'cat',\n",
    "           'deer', 'dog', 'frog', 'horse', 'ship', 'truck')"
   ]
  },
  {
   "cell_type": "code",
   "execution_count": 26,
   "metadata": {},
   "outputs": [
    {
     "data": {
      "image/png": "[encoded data removed]",
      "text/plain": [
       "<Figure size 640x480 with 1 Axes>"
      ]
     },
     "metadata": {},
     "output_type": "display_data"
    },
    {
     "name": "stdout",
     "output_type": "stream",
     "text": [
      "truck ship  bird  cat  \n"
     ]
    }
   ],
   "source": [
    "# Show images\n",
    "def imshow(img):\n",
    "    img = img / 2 + 0.5 # unnormalize\n",
    "    npimg = img.numpy()\n",
    "    plt.imshow(np.transpose(npimg, (1,2,0)))\n",
    "    plt.show()\n",
    "\n",
    "# get some random training images\n",
    "dataiter = iter(trainloader)\n",
    "images, labels = next(dataiter)\n",
    "\n",
    "# Display the images\n",
    "imshow(torchvision.utils.make_grid(images))\n",
    "\n",
    "# print labels\n",
    "print(' '.join(f'{classes[labels[j]]:5s}' for j in range(batch_size)))\n",
    "\n",
    "# Note: This is the ground truth. This is we compare our model against. Ground\n",
    "# truth means this is the fact. On the contrary, our model makes predictions,\n",
    "# and these inherently may be incorrect."
   ]
  },
  {
   "cell_type": "markdown",
   "metadata": {},
   "source": [
    "# Define the Convolutional Neural Network\n",
    "In this example, we will implement the following:\n",
    "\n",
    "- Convolution: A 2d convolutional layer with `x` input channels, `y` output channels and kernel size of `z * z`\n",
    "- Max pooling: A layer with `x * x` kernel size and stride of `y`\n",
    "- Linear layer: A fully connected layer with `x` input features and `y` output features. `nn.Linear(16*5*5, 120)` means 16 features, 5x5 spatial dimensions and output size of 120.\n",
    "\n",
    "## Max Pooling\n",
    "A technique to downsample data,, commonly used in convolutional neural networks. It divides areas in the data into non-overlapping blocks and picks the maximum value in each block.\n",
    "\n",
    "If you want to know more, use your favourite search engine to look them up."
   ]
  },
  {
   "cell_type": "code",
   "execution_count": 27,
   "metadata": {},
   "outputs": [],
   "source": [
    "# Define convolutional neural network\n",
    "import torch.nn as nn\n",
    "import torch.nn.functional as F\n",
    "\n",
    "class Net(nn.Module):\n",
    "    def __init__(self):\n",
    "        super().__init__()\n",
    "        # Convolutional layer: applies a filter to the input image to extract features.\n",
    "        self.conv1 = nn.Conv2d(3,6,5)\n",
    "        # Max pooling layer\n",
    "        self.pool = nn.MaxPool2d(2,2)\n",
    "        self.conv2 = nn.Conv2d(6,16,5)\n",
    "        # Fully connected layer\n",
    "        self.fc1 = nn.Linear(16*5*5, 120)\n",
    "        self.fc2 = nn.Linear(120, 84)\n",
    "        self.fc3 = nn.Linear(84, 10)\n",
    "\n",
    "    # ReLU: https://en.wikipedia.org/wiki/Rectifier_(neural_networks)\n",
    "    # Propagate one step through the network.\n",
    "    def forward(self, x):\n",
    "        x = self.pool(F.relu(self.conv1(x)))\n",
    "        x = self.pool(F.relu(self.conv2(x)))\n",
    "        x = torch.flatten(x, 1) # flatten all dimensions except batch\n",
    "        x = F.relu(self.fc1(x))\n",
    "        x = F.relu(self.fc2(x))\n",
    "        x = self.fc3(x)\n",
    "        return x\n",
    "\n",
    "net = Net()"
   ]
  },
  {
   "cell_type": "code",
   "execution_count": 28,
   "metadata": {},
   "outputs": [],
   "source": [
    "# Loss function and optimizer\n",
    "import torch.optim as optim\n",
    "\n",
    "# Cross entropy loss: Measure the difference between predicted probability and\n",
    "# the truth. There are many loss functions, but cross entropy is commonly used\n",
    "# in classification problems.\n",
    "# In short, loss is a quantitative measure of how our model's prediction\n",
    "# performs.\n",
    "criterion = nn.CrossEntropyLoss()\n",
    "\n",
    "# Stochastic gradient descent: Minimize the loss function.\n",
    "# Learning rate: Step size in learning process. Too high value: overshoots the optimal value. Too low: too slow process.\n",
    "# Momentum: Adds a fraction from the vector in the previous time step to the current.\n",
    "#\n",
    "# For info: an optimiser aims to improve the model's predictions (performance)\n",
    "# by adjusting weights. Weights impacts how much a node's output contributes to\n",
    "# the propagated node's input.\n",
    "optimizer = optim.SGD(net.parameters(), lr=0.001, momentum=0.9)"
   ]
  },
  {
   "cell_type": "code",
   "execution_count": 29,
   "metadata": {},
   "outputs": [
    {
     "name": "stdout",
     "output_type": "stream",
     "text": [
      "[1,  2000] loss: 2.165\n",
      "[1,  4000] loss: 1.837\n",
      "[1,  6000] loss: 1.665\n",
      "[1,  8000] loss: 1.539\n",
      "[1, 10000] loss: 1.514\n",
      "[1, 12000] loss: 1.439\n",
      "[2,  2000] loss: 1.376\n",
      "[2,  4000] loss: 1.372\n",
      "[2,  6000] loss: 1.331\n",
      "[2,  8000] loss: 1.295\n",
      "[2, 10000] loss: 1.283\n",
      "[2, 12000] loss: 1.269\n",
      "Finished Training\n"
     ]
    }
   ],
   "source": [
    "# Train the network\n",
    "# Please note this takes time, depending on your hardware. At the moment, we use\n",
    "# CPU. This is slow!\n",
    "# If you have saved the model in a file, this step is only necessary to\n",
    "# execute when you want to improve or make changes to the model.\n",
    "\n",
    "for epoch in range(2): # Loop over the dataset multiple times\n",
    "    running_loss = 0.0\n",
    "    for i, data in enumerate(trainloader, 0):\n",
    "        # get the inputs from dataset\n",
    "        # inputs = image\n",
    "        # labels = class\n",
    "        # data = data from the trainloader\n",
    "        inputs, labels = data\n",
    "\n",
    "        # zero the parameter gradients. Gradients means the change in the\n",
    "        # weights\n",
    "        optimizer.zero_grad()\n",
    "\n",
    "        # forward + backward propagation + optimize\n",
    "        # This is how we traverse the neural network. In CNN we perform forward\n",
    "        # and backward propagation before we optimize the weights.\n",
    "        outputs = net(inputs)\n",
    "        loss = criterion(outputs, labels)\n",
    "        loss.backward()\n",
    "        optimizer.step()\n",
    "\n",
    "        # print statistics\n",
    "        running_loss += loss.item()\n",
    "        if i % 2000 == 1999: # print every 2000 mini-batches\n",
    "            print(f'[{epoch + 1}, {i + 1:5d}] loss: {running_loss / 2000:.3f}')\n",
    "            running_loss = 0.0\n",
    "\n",
    "print('Finished Training')"
   ]
  },
  {
   "cell_type": "code",
   "execution_count": 30,
   "metadata": {},
   "outputs": [],
   "source": [
    "# Save the model\n",
    "# More about this: https://pytorch.org/docs/stable/notes/serialization.html\n",
    "PATH = './cifar_net.pth'"
   ]
  },
  {
   "cell_type": "code",
   "execution_count": 31,
   "metadata": {},
   "outputs": [],
   "source": [
    "# Execute this block only if you actually trained the model. Otherwise you might\n",
    "# get unexpected results.\n",
    "torch.save(net.state_dict(), PATH)"
   ]
  },
  {
   "cell_type": "markdown",
   "metadata": {},
   "source": [
    "# Comparison\n",
    "Now, let's compare the model's prediction to the ground truth."
   ]
  },
  {
   "cell_type": "code",
   "execution_count": 34,
   "metadata": {},
   "outputs": [
    {
     "name": "stdout",
     "output_type": "stream",
     "text": [
      "Data to classify:\n"
     ]
    },
    {
     "data": {
      "image/png": "[encoded data removed]",
      "text/plain": [
       "<Figure size 640x480 with 1 Axes>"
      ]
     },
     "metadata": {},
     "output_type": "display_data"
    },
    {
     "name": "stdout",
     "output_type": "stream",
     "text": [
      "GroundTruth:  cat   ship  ship  plane\n",
      "Predicted:  cat   plane plane plane\n"
     ]
    }
   ],
   "source": [
    "### Ground truth\n",
    "dataiter = iter(testloader)\n",
    "images, labels = next(dataiter)\n",
    "\n",
    "# Display the images\n",
    "print(\"Data to classify:\")\n",
    "imshow(torchvision.utils.make_grid(images))\n",
    "\n",
    "print('GroundTruth: ', ' '.join(f'{classes[labels[j]]:5s}' for j in range(batch_size)))\n",
    "\n",
    "### Prediction\n",
    "# Load model from disk. This is not necessary if you just trained the model.\n",
    "net = Net()\n",
    "net.load_state_dict(torch.load(PATH))\n",
    "\n",
    "# Vectors with our predictions\n",
    "outputs = net(images)\n",
    "\n",
    "_, predicted = torch.max(outputs, 1)\n",
    "\n",
    "# Print outcome\n",
    "print('Predicted: ', ' '.join(f'{classes[predicted[j]]:5s}' for j in range(batch_size)))\n"
   ]
  },
  {
   "cell_type": "code",
   "execution_count": 35,
   "metadata": {},
   "outputs": [
    {
     "name": "stdout",
     "output_type": "stream",
     "text": [
      "Accuracy of the network on the 10000 test images: 54 %\n"
     ]
    }
   ],
   "source": [
    "# Measure performance\n",
    "correct = 0\n",
    "total = 0\n",
    "\n",
    "# We are not training, so no need to calculate the gradients for our outputs\n",
    "with torch.no_grad():\n",
    "    for data in testloader:\n",
    "        images, labels = data\n",
    "        # calculate outputs by running images through the network\n",
    "        outputs = net(images)\n",
    "        # the class with the highest energy is what we choose as prediction\n",
    "        _, predicted = torch.max(outputs.data, 1)\n",
    "        total += labels.size(0)\n",
    "        correct += (predicted == labels).sum().item()\n",
    "\n",
    "print(f'Accuracy of the network on the 10000 test images: {100 * correct // total} %')"
   ]
  },
  {
   "cell_type": "code",
   "execution_count": 36,
   "metadata": {},
   "outputs": [
    {
     "name": "stdout",
     "output_type": "stream",
     "text": [
      "Accuracy for class: plane is 69.0 %\n",
      "Accuracy for class: car   is 74.2 %\n",
      "Accuracy for class: bird  is 39.3 %\n",
      "Accuracy for class: cat   is 30.6 %\n",
      "Accuracy for class: deer  is 57.6 %\n",
      "Accuracy for class: dog   is 42.3 %\n",
      "Accuracy for class: frog  is 66.4 %\n",
      "Accuracy for class: horse is 64.7 %\n",
      "Accuracy for class: ship  is 50.2 %\n",
      "Accuracy for class: truck is 51.4 %\n"
     ]
    }
   ],
   "source": [
    "# Report on classes' performance\n",
    "correct_pred = {classname: 0 for classname in classes}\n",
    "total_pred = {classname: 0 for classname in classes}\n",
    "\n",
    "with torch.no_grad():\n",
    "    for data in testloader:\n",
    "        images, labels = data\n",
    "        outputs = net(images)\n",
    "        _, predictions = torch.max(outputs, 1)\n",
    "        # collect the correct predictions for each class\n",
    "        for label, prediction in zip(labels, predictions):\n",
    "            if label == prediction:\n",
    "                correct_pred[classes[label]] += 1\n",
    "            total_pred[classes[label]] += 1\n",
    "\n",
    "for classname, correct_count in correct_pred.items():\n",
    "    accuracy = 100 * float(correct_count) / total_pred[classname]\n",
    "    print(f'Accuracy for class: {classname:5s} is {accuracy:.1f} %')"
   ]
  },
  {
   "cell_type": "markdown",
   "metadata": {},
   "source": [
    "# Training on GPU\n",
    "Now you can compare training the model on the GPU vs on the CPU. You won't\n",
    "notice a huge difference because the model's size of small."
   ]
  },
  {
   "cell_type": "code",
   "execution_count": 31,
   "metadata": {},
   "outputs": [
    {
     "name": "stdout",
     "output_type": "stream",
     "text": [
      "cuda:0\n"
     ]
    }
   ],
   "source": [
    "device = torch.device('cuda:0' if torch.cuda.is_available() else 'cpu')\n",
    "\n",
    "# If CUDA is supported, we get something like 'cuda:0'\n",
    "print(device)"
   ]
  },
  {
   "cell_type": "code",
   "execution_count": 32,
   "metadata": {},
   "outputs": [
    {
     "data": {
      "text/plain": [
       "Net(\n",
       "  (conv1): Conv2d(3, 6, kernel_size=(5, 5), stride=(1, 1))\n",
       "  (pool): MaxPool2d(kernel_size=2, stride=2, padding=0, dilation=1, ceil_mode=False)\n",
       "  (conv2): Conv2d(6, 16, kernel_size=(5, 5), stride=(1, 1))\n",
       "  (fc1): Linear(in_features=400, out_features=120, bias=True)\n",
       "  (fc2): Linear(in_features=120, out_features=84, bias=True)\n",
       "  (fc3): Linear(in_features=84, out_features=10, bias=True)\n",
       ")"
      ]
     },
     "execution_count": 32,
     "metadata": {},
     "output_type": "execute_result"
    }
   ],
   "source": [
    "# Recursively go over all modules and convert parameters and buffers to CUDA tensors\n",
    "net.to(device)"
   ]
  },
  {
   "cell_type": "code",
   "execution_count": 35,
   "metadata": {},
   "outputs": [
    {
     "name": "stdout",
     "output_type": "stream",
     "text": [
      "[1,  2000] loss: 1.285\n",
      "[1,  4000] loss: 1.288\n",
      "[1,  6000] loss: 1.280\n",
      "[1,  8000] loss: 1.287\n",
      "[1, 10000] loss: 1.263\n",
      "[1, 12000] loss: 1.287\n",
      "[2,  2000] loss: 1.288\n",
      "[2,  4000] loss: 1.290\n",
      "[2,  6000] loss: 1.292\n",
      "[2,  8000] loss: 1.287\n",
      "[2, 10000] loss: 1.259\n",
      "[2, 12000] loss: 1.283\n",
      "Finished Training\n"
     ]
    }
   ],
   "source": [
    "# Train the network\n",
    "for epoch in range(2): # Loop over the dataset multiple times\n",
    "    running_loss = 0.0\n",
    "    for i, data in enumerate(trainloader, 0):\n",
    "        # get the inputs from dataset\n",
    "        inputs, labels = data[0].to(device), data[1].to(device)\n",
    "\n",
    "        # zero the parameter gradients. Gradients means the change in the weights\n",
    "        optimizer.zero_grad()\n",
    "\n",
    "        # forward + backward propagation + optimize\n",
    "        outputs = net(inputs)\n",
    "        loss = criterion(outputs, labels)\n",
    "        loss.backward()\n",
    "        optimizer.step()\n",
    "\n",
    "        # print statistics\n",
    "        running_loss += loss.item()\n",
    "        if i % 2000 == 1999: # print every 2000 mini-batches\n",
    "            print(f'[{epoch + 1}, {i + 1:5d}] loss: {running_loss / 2000:.3f}')\n",
    "            running_loss = 0.0\n",
    "\n",
    "print('Finished Training')"
   ]
  }
 ],
 "metadata": {
  "kernelspec": {
   "display_name": ".venv",
   "language": "python",
   "name": "python3"
  },
  "language_info": {
   "codemirror_mode": {
    "name": "ipython",
    "version": 3
   },
   "file_extension": ".py",
   "mimetype": "text/x-python",
   "name": "python",
   "nbconvert_exporter": "python",
   "pygments_lexer": "ipython3",
   "version": "3.9.19"
  }
 },
 "nbformat": 4,
 "nbformat_minor": 2
}
